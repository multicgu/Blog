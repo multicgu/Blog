{
 "cells": [
  {
   "cell_type": "markdown",
   "metadata": {},
   "source": [
    "# Basket Optimisation\n",
    "https://www.kaggle.com/dragonheir/basket-optimisation"
   ]
  },
  {
   "cell_type": "code",
   "execution_count": 79,
   "metadata": {},
   "outputs": [
    {
     "name": "stdout",
     "output_type": "stream",
     "text": [
      "频繁项集: {1: {('salmon',): 319, ('energy drink',): 200, ('avocado',): 250, ('green tea',): 991, ('mineral water',): 1788, ('frozen smoothie',): 475, ('honey',): 356, ('almonds',): 153, ('tomato juice',): 228, ('cottage cheese',): 239, ('low fat yogurt',): 574, ('olive oil',): 494, ('shrimp',): 536, ('vegetables mix',): 193, ('eggs',): 1348, ('burgers',): 654, ('meatballs',): 157, ('turkey',): 469, ('milk',): 972, ('whole wheat rice',): 439, ('energy bar',): 203, ('whole wheat pasta',): 221, ('french fries',): 1282, ('soup',): 379, ('spaghetti',): 1306, ('frozen vegetables',): 715, ('cookies',): 603, ('cooking oil',): 383, ('champagne',): 351, ('chocolate',): 1229, ('oil',): 173, ('chicken',): 450, ('tomatoes',): 513, ('fresh tuna',): 167, ('pepper',): 199, ('red wine',): 211, ('pancakes',): 713, ('ham',): 199, ('grated cheese',): 393, ('fresh bread',): 323, ('ground beef',): 737, ('escalope',): 595, ('herb & pepper',): 371, ('strawberries',): 160, ('cake',): 608, ('hot dogs',): 243, ('brownies',): 253, ('cereals',): 193, ('muffins',): 181, ('light mayo',): 204, ('yogurt cake',): 205, ('butter',): 226, ('french wine',): 169}, 2: {('frozen smoothie', 'mineral water'): 152, ('green tea', 'mineral water'): 233, ('low fat yogurt', 'mineral water'): 180, ('mineral water', 'olive oil'): 207, ('mineral water', 'shrimp'): 177, ('burgers', 'eggs'): 216, ('milk', 'mineral water'): 360, ('mineral water', 'whole wheat rice'): 151, ('frozen vegetables', 'spaghetti'): 209, ('green tea', 'spaghetti'): 199, ('burgers', 'mineral water'): 183, ('cooking oil', 'mineral water'): 151, ('eggs', 'mineral water'): 382, ('chicken', 'mineral water'): 171, ('eggs', 'spaghetti'): 274, ('mineral water', 'spaghetti'): 448, ('mineral water', 'tomatoes'): 183, ('spaghetti', 'tomatoes'): 157, ('french fries', 'milk'): 178, ('chocolate', 'eggs'): 249, ('mineral water', 'pancakes'): 253, ('pancakes', 'spaghetti'): 189, ('milk', 'spaghetti'): 266, ('ground beef', 'milk'): 165, ('ground beef', 'mineral water'): 307, ('ground beef', 'spaghetti'): 294, ('chocolate', 'french fries'): 258, ('chocolate', 'mineral water'): 395, ('eggs', 'french fries'): 273, ('french fries', 'mineral water'): 253, ('frozen vegetables', 'mineral water'): 268, ('chocolate', 'frozen vegetables'): 172, ('cake', 'mineral water'): 206, ('french fries', 'green tea'): 214, ('french fries', 'pancakes'): 151, ('chocolate', 'green tea'): 176, ('chocolate', 'spaghetti'): 294, ('chocolate', 'ground beef'): 173, ('chocolate', 'milk'): 241, ('frozen vegetables', 'milk'): 177, ('mineral water', 'soup'): 173, ('olive oil', 'spaghetti'): 172, ('burgers', 'french fries'): 165, ('burgers', 'spaghetti'): 161, ('french fries', 'spaghetti'): 207, ('shrimp', 'spaghetti'): 159, ('eggs', 'green tea'): 191, ('eggs', 'milk'): 231, ('eggs', 'pancakes'): 163, ('eggs', 'frozen vegetables'): 163}} \n",
      "关联规则: [{frozen smoothie} -> {mineral water}, {green tea} -> {mineral water}, {low fat yogurt} -> {mineral water}, {olive oil} -> {mineral water}, {shrimp} -> {mineral water}, {burgers} -> {eggs}, {mineral water} -> {milk}, {milk} -> {mineral water}, {whole wheat rice} -> {mineral water}, {frozen vegetables} -> {spaghetti}, {green tea} -> {spaghetti}, {burgers} -> {mineral water}, {cooking oil} -> {mineral water}, {mineral water} -> {eggs}, {eggs} -> {mineral water}, {chicken} -> {mineral water}, {spaghetti} -> {eggs}, {eggs} -> {spaghetti}, {spaghetti} -> {mineral water}, {mineral water} -> {spaghetti}, {tomatoes} -> {mineral water}, {tomatoes} -> {spaghetti}, {chocolate} -> {eggs}, {pancakes} -> {mineral water}, {pancakes} -> {spaghetti}, {spaghetti} -> {milk}, {milk} -> {spaghetti}, {ground beef} -> {milk}, {ground beef} -> {mineral water}, {spaghetti} -> {ground beef}, {ground beef} -> {spaghetti}, {french fries} -> {chocolate}, {chocolate} -> {french fries}, {mineral water} -> {chocolate}, {chocolate} -> {mineral water}, {french fries} -> {eggs}, {eggs} -> {french fries}, {frozen vegetables} -> {mineral water}, {frozen vegetables} -> {chocolate}, {cake} -> {mineral water}, {green tea} -> {french fries}, {pancakes} -> {french fries}, {spaghetti} -> {chocolate}, {chocolate} -> {spaghetti}, {ground beef} -> {chocolate}, {milk} -> {chocolate}, {frozen vegetables} -> {milk}, {soup} -> {mineral water}, {olive oil} -> {spaghetti}, {burgers} -> {french fries}, {burgers} -> {spaghetti}, {shrimp} -> {spaghetti}, {milk} -> {eggs}, {pancakes} -> {eggs}, {frozen vegetables} -> {eggs}]\n"
     ]
    }
   ],
   "source": [
    "from efficient_apriori import apriori\n",
    "import pandas as pd\n",
    "import numpy as np\n",
    "\n",
    "df = pd.read_csv('Market_basket_Optimisation.csv',header=None)\n",
    "df.fillna('0',inplace=True)\n",
    "\n",
    "transaction=[]\n",
    "\n",
    "for i in df.index.values:\n",
    "    templist=list(df.iloc[i].to_list())\n",
    "    templist = [x for x in templist if x != '0' ]\n",
    "    transaction.append(tuple(templist))\n",
    "\n",
    "itemsets, rules = apriori(transaction, min_support=0.02, min_confidence=0.2)\n",
    "print('频繁项集: %s ' %itemsets)\n",
    "print('关联规则: %s' %rules)\n",
    "#print(transaction)\n",
    "\n"
   ]
  },
  {
   "cell_type": "code",
   "execution_count": 15,
   "metadata": {},
   "outputs": [
    {
     "name": "stdout",
     "output_type": "stream",
     "text": [
      "      support                           itemsets\n",
      "0    0.020397                          (almonds)\n",
      "1    0.033329                          (avocado)\n",
      "2    0.033729                         (brownies)\n",
      "3    0.087188                          (burgers)\n",
      "4    0.030129                           (butter)\n",
      "..        ...                                ...\n",
      "98   0.020131  (mineral water, whole wheat rice)\n",
      "99   0.022930             (olive oil, spaghetti)\n",
      "100  0.025197              (pancakes, spaghetti)\n",
      "101  0.021197                (shrimp, spaghetti)\n",
      "102  0.020931              (spaghetti, tomatoes)\n",
      "\n",
      "[103 rows x 2 columns]\n",
      "        antecedents     consequents  antecedent support  consequent support  \\\n",
      "0         (burgers)          (eggs)            0.087188            0.179709   \n",
      "1            (eggs)       (burgers)            0.179709            0.087188   \n",
      "2         (burgers)  (french fries)            0.087188            0.170911   \n",
      "3    (french fries)       (burgers)            0.170911            0.087188   \n",
      "4   (mineral water)       (burgers)            0.238368            0.087188   \n",
      "..              ...             ...                 ...                 ...   \n",
      "95      (spaghetti)      (pancakes)            0.174110            0.095054   \n",
      "96         (shrimp)     (spaghetti)            0.071457            0.174110   \n",
      "97      (spaghetti)        (shrimp)            0.174110            0.071457   \n",
      "98      (spaghetti)      (tomatoes)            0.174110            0.068391   \n",
      "99       (tomatoes)     (spaghetti)            0.068391            0.174110   \n",
      "\n",
      "     support  confidence      lift  leverage  conviction  \n",
      "0   0.028796    0.330275  1.837830  0.013128    1.224818  \n",
      "1   0.028796    0.160237  1.837830  0.013128    1.086988  \n",
      "2   0.021997    0.252294  1.476173  0.007096    1.108844  \n",
      "3   0.021997    0.128705  1.476173  0.007096    1.047650  \n",
      "4   0.024397    0.102349  1.173883  0.003614    1.016889  \n",
      "..       ...         ...       ...       ...         ...  \n",
      "95  0.025197    0.144717  1.522468  0.008647    1.058066  \n",
      "96  0.021197    0.296642  1.703760  0.008756    1.174209  \n",
      "97  0.021197    0.121746  1.703760  0.008756    1.057260  \n",
      "98  0.020931    0.120214  1.757755  0.009023    1.058905  \n",
      "99  0.020931    0.306043  1.757755  0.009023    1.190117  \n",
      "\n",
      "[100 rows x 9 columns]\n"
     ]
    }
   ],
   "source": [
    "from mlxtend.frequent_patterns import apriori\n",
    "from mlxtend.frequent_patterns import association_rules\n",
    "import pandas as pd\n",
    "import numpy as np\n",
    "from mlxtend.preprocessing import TransactionEncoder\n",
    "\n",
    "df = pd.read_csv('Market_Basket_Optimisation.csv',header=None)\n",
    "def deal(data):\n",
    "    return data.dropna().tolist()\n",
    "tmplist=df.apply(deal,axis=1).tolist()\n",
    "#col = [i for x in tmplist for i in x]\n",
    "#col=set(col)\n",
    "#print(len(col))\n",
    "\n",
    "te = TransactionEncoder()\n",
    "df_arr = te.fit_transform(tmplist)\n",
    "df = pd.DataFrame(df_arr, columns=te.columns_)\n",
    "\n",
    "frequent_itemsets = apriori(df, min_support=0.02, use_colnames=True)\n",
    "rules = association_rules(frequent_itemsets, metric='lift', min_threshold=0.5)\n",
    "\n",
    "print(frequent_itemsets)\n",
    "print(rules)"
   ]
  },
  {
   "cell_type": "code",
   "execution_count": 1,
   "metadata": {},
   "outputs": [],
   "source": []
  }
 ],
 "metadata": {
  "kernelspec": {
   "display_name": "Python 3",
   "language": "python",
   "name": "python3"
  },
  "language_info": {
   "codemirror_mode": {
    "name": "ipython",
    "version": 3
   },
   "file_extension": ".py",
   "mimetype": "text/x-python",
   "name": "python",
   "nbconvert_exporter": "python",
   "pygments_lexer": "ipython3",
   "version": "3.7.4"
  }
 },
 "nbformat": 4,
 "nbformat_minor": 4
}
